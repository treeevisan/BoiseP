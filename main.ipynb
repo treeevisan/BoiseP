{
 "cells": [
  {
   "cell_type": "code",
   "execution_count": 258,
   "metadata": {},
   "outputs": [],
   "source": [
    "import os\n",
    "from selenium import webdriver\n",
    "from selenium.webdriver.common.by import By\n",
    "from selenium.webdriver.support.ui import WebDriverWait\n",
    "from selenium.webdriver.support import expected_conditions as EC\n",
    "from selenium.webdriver.common.keys import Keys\n",
    "from selenium.webdriver.common.action_chains import ActionChains\n",
    "from selenium.webdriver.common.actions.action_builder import ActionBuilder\n",
    "import pyautogui as pag\n",
    "import time\n",
    "from selenium.webdriver.common.actions.wheel_input import ScrollOrigin\n"
   ]
  },
  {
   "cell_type": "code",
   "execution_count": 259,
   "metadata": {},
   "outputs": [],
   "source": [
    "os.environ['PATH'] += r\"D:/Anaconda/anaconda3\"\n",
    "driver = webdriver.Firefox()\n",
    "driver.maximize_window()"
   ]
  },
  {
   "cell_type": "code",
   "execution_count": 260,
   "metadata": {},
   "outputs": [],
   "source": [
    "driver.get('https://permits.cityofboise.org/CitizenAccess/Welcome.aspx')\n",
    "\n"
   ]
  },
  {
   "cell_type": "code",
   "execution_count": 261,
   "metadata": {},
   "outputs": [],
   "source": [
    "link = driver.find_element(By.XPATH, '/html/body/form/div[3]/header/div/nav/div/div/ul/li[2]/span/div')\n",
    "link.click()\n",
    "\n",
    "WebDriverWait(driver,30).until(\n",
    "    EC.text_to_be_present_in_element(\n",
    "        (By.XPATH,'/html/body/form/div[3]/header/div/nav/div/div/ul/li[2]/div/a[5]'),\n",
    "        'Licenses'\n",
    "    )\n",
    ")\n",
    "\n",
    "lk2 = driver.find_element(By.XPATH, '//*[@id=\"cobnav\"]/div/ul/li[2]/div/a[2]') \n",
    "\n",
    "lk2.click()\n",
    "\n"
   ]
  },
  {
   "cell_type": "code",
   "execution_count": 262,
   "metadata": {},
   "outputs": [],
   "source": [
    "rec_type = driver.find_element(By.ID, 'ctl00_PlaceHolderMain_generalSearchForm_ddlGSPermitType')\n",
    "\n",
    "\n",
    "\n",
    "rec_type.click()\n",
    "\n",
    "sel_rec = driver.find_element(By.XPATH, '/html/body/form/div[4]/div/div[7]/div[1]/table/tbody/tr/td/div[2]/div[3]/div/div/div[2]/div[1]/div/div[1]/div[1]/div[1]/div[1]/div[2]/table/tbody/tr/td/div/div[2]/table/tbody/tr/td[1]/select/option[2]')\n",
    "\n",
    "sel_rec.click()\n",
    "\n",
    "# #Calendar\n",
    "# button = driver.find_element(By.ID,'ctl00_PlaceHolderMain_generalSearchForm_txtGSStartDate_calendar_button')\n",
    "\n",
    "# driver.execute_script(\"document.getElementById('ctl00_PlaceHolderMain_generalSearchForm_txtGSStartDate_calendar_button').click()\")\n",
    "# driver.execute_script(\"document.getElementById('ctl00_PlaceHolderMain_generalSearchForm_txtGSStartDate_calendar_bhv_lnkTitleID').click()\")"
   ]
  },
  {
   "cell_type": "markdown",
   "metadata": {},
   "source": [
    "## Calendar"
   ]
  },
  {
   "cell_type": "code",
   "execution_count": 263,
   "metadata": {},
   "outputs": [],
   "source": [
    "scroll_origin = ScrollOrigin.from_viewport(10, 10)\n",
    "ActionChains(driver)\\\n",
    ".scroll_from_origin(scroll_origin, 0, 800)\\\n",
    ".perform()"
   ]
  },
  {
   "cell_type": "code",
   "execution_count": 264,
   "metadata": {},
   "outputs": [],
   "source": [
    "time.sleep(4)"
   ]
  },
  {
   "cell_type": "code",
   "execution_count": 265,
   "metadata": {},
   "outputs": [],
   "source": [
    "\n",
    "pag.moveTo(480,250)\n",
    "pag.click()\n",
    "time.sleep(1)\n",
    "pag.moveTo(440,280)\n",
    "pag.click()\n",
    "time.sleep(1)\n",
    "pag.moveTo(390,350)\n",
    "pag.click()\n",
    "time.sleep(1)\n",
    "pag.moveTo(430,340)\n",
    "pag.click()\n",
    "time.sleep(1)"
   ]
  },
  {
   "cell_type": "code",
   "execution_count": 266,
   "metadata": {},
   "outputs": [],
   "source": [
    "find_eng = driver.find_element(By.ID, 'ctl00_PlaceHolderMain_btnNewSearch')\n",
    "driver.execute_script(\"document.getElementById('ctl00_PlaceHolderMain_btnNewSearch').click()\")"
   ]
  },
  {
   "cell_type": "markdown",
   "metadata": {},
   "source": [
    "## Search"
   ]
  },
  {
   "cell_type": "code",
   "execution_count": 274,
   "metadata": {},
   "outputs": [],
   "source": [
    "scroll_origin = ScrollOrigin.from_viewport(10, 10)\n",
    "ActionChains(driver)\\\n",
    ".scroll_from_origin(scroll_origin, 0, -10000)\\\n",
    ".perform()"
   ]
  },
  {
   "cell_type": "markdown",
   "metadata": {},
   "source": [
    "## Permits scraping"
   ]
  },
  {
   "cell_type": "code",
   "execution_count": 275,
   "metadata": {},
   "outputs": [],
   "source": [
    "driver.execute_script(\"document.getElementById('ctl00_PlaceHolderMain_dgvPermitList_gdvPermitList_ctl02_hlPermitNumber').click()\")\n",
    "\n",
    "driver.execute_script(\"document.getElementById('ctl00_PlaceHolderMain_dgvPermitList_gdvPermitList_ctl{value}_hlPermitNumber').click()\")"
   ]
  },
  {
   "cell_type": "code",
   "execution_count": 297,
   "metadata": {},
   "outputs": [],
   "source": [
    "permit_num = []\n",
    "project_name = []\n",
    "status = []\n",
    "project_st = []\n",
    "project_city = []\n",
    "licenced_professional = []\n",
    "professional_city = []\n",
    "professional_zip = []\n",
    "applicant_name = []\n",
    "applicant_company = []\n",
    "applicant_main_phone = []\n",
    "applicant_email = []"
   ]
  },
  {
   "cell_type": "code",
   "execution_count": 310,
   "metadata": {},
   "outputs": [],
   "source": [
    "## Permit Number\n",
    "def p_num (value):\n",
    "\n",
    "    try:\n",
    "        number = driver.find_element(By.ID, f\"ctl00_PlaceHolderMain_dgvPermitList_gdvPermitList_ctl{value}_lblPermitNumber\").text\n",
    "    except:\n",
    "        number = driver.find_element(By.ID, f\"ctl00_PlaceHolderMain_dgvPermitList_gdvPermitList_ctl{value}_lblPermitNumber1\").text\n",
    "    permit_num.append(number)\n",
    "\n",
    "    # Go to\n",
    "    try:\n",
    "        driver.execute_script(f\"document.getElementById('ctl00_PlaceHolderMain_dgvPermitList_gdvPermitList_ctl{value}_hlPermitNumber').click()\")\n",
    "    except:\n",
    "        driver.execute_script(f\"document.getElementById('ctl00_PlaceHolderMain_dgvPermitList_gdvPermitList_ctl{value}_hlPermitNumber1').click()\")\n",
    "\n",
    "\n",
    "    ## Project Street \n",
    "    try:\n",
    "        apl_street = driver.find_element(By.CLASS_NAME, f\"contactinfo_addressline1\").text\n",
    "    except:\n",
    "        apl_street = driver.find_element(By.CLASS_NAME, f\"contactinfo_addressline2\").text\n",
    "\n",
    "        project_st.append(apl_street)\n",
    "    \n",
    "        ## Project City\n",
    "    try:\n",
    "        apl_city = driver.find_element(By.CLASS_NAME, f\"contactinfo_region\").text\n",
    "    except:\n",
    "        pass\n",
    "\n",
    "        project_city.append(apl_city)\n",
    "\n",
    "\n",
    "    ## Licensed professional\n",
    "    try:\n",
    "        apl_city = driver.find_element(By.CLASS_NAME, f\"contactinfo_region\").text\n",
    "    except:\n",
    "        pass\n",
    "\n",
    "        project_city.append(apl_city)\n",
    "\n",
    "    ## Applicant Name\n",
    "    try:\n",
    "        apl_fname = driver.find_element(By.CLASS_NAME, f\"contactinfo_firstname\").text\n",
    "        apl_lname = driver.find_element(By.CLASS_NAME, 'contactinfo_lastname').text\n",
    "\n",
    "        apl_name = apl_fname + ' ' + apl_lname\n",
    "\n",
    "    except:\n",
    "        pass\n",
    "\n",
    "        applicant_name.append(apl_name)        \n",
    "    \n",
    "    ## Applicant Company Name\n",
    "    try:\n",
    "        apl_comp_name = driver.find_element(By.CLASS_NAME, f\"contactinfo_businessname\").text\n",
    "    except:\n",
    "        pass\n",
    "\n",
    "        applicant_company.append(apl_comp_name)\n",
    "    ## Applicant Phone\n",
    "    try:\n",
    "        apl_phone = driver.find_element(By.CLASS_NAME, f\"contactinfo_phone1\").text\n",
    "    except:\n",
    "        pass\n",
    "\n",
    "        applicant_main_phone.append(apl_phone)\n",
    "\n",
    "    ## Applicant Email\n",
    "    try:\n",
    "        apl_email = driver.find_element(By.CLASS_NAME, f\"contactinfo_email\").text\n",
    "    except:\n",
    "        pass\n",
    "\n",
    "        applicant_email.append(apl_email)\n",
    "\n",
    "    ## Licensed Professional\n",
    "    try:\n",
    "        li_prof = driver.find_element(By.CLASS_NAME, f\"td_child_left\").text\n",
    "    except:\n",
    "        pass\n",
    "\n",
    "        applicant_email.append(li_prof)\n",
    "\n",
    "\n",
    "\n",
    "    return number\n",
    "\n",
    "\n",
    "\n",
    "## Status\n",
    "\n",
    "def p_status (value):\n",
    "    try:\n",
    "        char = driver.find_element(By.ID, f\"ctl00_PlaceHolderMain_dgvPermitList_gdvPermitList_ctl{value}_lblStatus\").text\n",
    "    except:\n",
    "        pass\n",
    "    \n",
    "    status.append(char)\n",
    "    return char\n",
    "\n",
    "\n",
    "\n",
    "## Project Name\n",
    "\n",
    "def p_name (value):\n",
    "    try:\n",
    "        pname = driver.find_element(By.ID, f\"ctl00_PlaceHolderMain_dgvPermitList_gdvPermitList_ctl{value}_lblProjectName\").text\n",
    "    except:\n",
    "        pass\n",
    "    \n",
    "    project_name.append(pname)\n",
    "    return pname\n",
    "\n",
    "## Project Street and other "
   ]
  },
  {
   "cell_type": "code",
   "execution_count": 316,
   "metadata": {},
   "outputs": [
    {
     "name": "stdout",
     "output_type": "stream",
     "text": [
      "['BLD24-00393', 'BLD24-00392']\n"
     ]
    }
   ],
   "source": [
    "print(permit_num)"
   ]
  },
  {
   "cell_type": "code",
   "execution_count": 328,
   "metadata": {},
   "outputs": [
    {
     "name": "stdout",
     "output_type": "stream",
     "text": [
      "\n"
     ]
    }
   ],
   "source": []
  }
 ],
 "metadata": {
  "kernelspec": {
   "display_name": "venv",
   "language": "python",
   "name": "python3"
  },
  "language_info": {
   "codemirror_mode": {
    "name": "ipython",
    "version": 3
   },
   "file_extension": ".py",
   "mimetype": "text/x-python",
   "name": "python",
   "nbconvert_exporter": "python",
   "pygments_lexer": "ipython3",
   "version": "3.11.5"
  }
 },
 "nbformat": 4,
 "nbformat_minor": 2
}
