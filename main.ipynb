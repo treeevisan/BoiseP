{
 "cells": [
  {
   "cell_type": "code",
   "execution_count": 344,
   "metadata": {},
   "outputs": [],
   "source": [
    "import os\n",
    "from selenium import webdriver\n",
    "from selenium.webdriver.common.by import By\n",
    "from selenium.webdriver.support.ui import WebDriverWait\n",
    "from selenium.webdriver.support import expected_conditions as EC\n",
    "from selenium.webdriver.common.keys import Keys\n",
    "from selenium.webdriver.common.action_chains import ActionChains\n",
    "from selenium.webdriver.common.actions.action_builder import ActionBuilder\n",
    "import pyautogui as pag\n",
    "import time\n",
    "from selenium.webdriver.common.actions.wheel_input import ScrollOrigin\n",
    "import json\n"
   ]
  },
  {
   "cell_type": "code",
   "execution_count": 94,
   "metadata": {},
   "outputs": [],
   "source": [
    "os.environ['PATH'] += r\"D:/Anaconda/anaconda3\"\n",
    "driver = webdriver.Firefox()\n",
    "driver.maximize_window()"
   ]
  },
  {
   "cell_type": "code",
   "execution_count": 95,
   "metadata": {},
   "outputs": [],
   "source": [
    "driver.get('https://permits.cityofboise.org/CitizenAccess/Welcome.aspx')\n",
    "\n"
   ]
  },
  {
   "cell_type": "code",
   "execution_count": 96,
   "metadata": {},
   "outputs": [],
   "source": [
    "link = driver.find_element(By.XPATH, '/html/body/form/div[3]/header/div/nav/div/div/ul/li[2]/span/div')\n",
    "link.click()\n",
    "\n",
    "WebDriverWait(driver,30).until(\n",
    "    EC.text_to_be_present_in_element(\n",
    "        (By.XPATH,'/html/body/form/div[3]/header/div/nav/div/div/ul/li[2]/div/a[5]'),\n",
    "        'Licenses'\n",
    "    )\n",
    ")\n",
    "\n",
    "lk2 = driver.find_element(By.XPATH, '//*[@id=\"cobnav\"]/div/ul/li[2]/div/a[2]') \n",
    "\n",
    "lk2.click()\n",
    "\n"
   ]
  },
  {
   "cell_type": "code",
   "execution_count": 97,
   "metadata": {},
   "outputs": [],
   "source": [
    "rec_type = driver.find_element(By.ID, 'ctl00_PlaceHolderMain_generalSearchForm_ddlGSPermitType')\n",
    "\n",
    "\n",
    "\n",
    "rec_type.click()\n",
    "\n",
    "sel_rec = driver.find_element(By.XPATH, '/html/body/form/div[4]/div/div[7]/div[1]/table/tbody/tr/td/div[2]/div[3]/div/div/div[2]/div[1]/div/div[1]/div[1]/div[1]/div[1]/div[2]/table/tbody/tr/td/div/div[2]/table/tbody/tr/td[1]/select/option[2]')\n",
    "\n",
    "sel_rec.click()\n"
   ]
  },
  {
   "cell_type": "markdown",
   "metadata": {},
   "source": [
    "## Calendar"
   ]
  },
  {
   "cell_type": "code",
   "execution_count": 98,
   "metadata": {},
   "outputs": [],
   "source": [
    "scroll_origin = ScrollOrigin.from_viewport(10, 10)\n",
    "ActionChains(driver)\\\n",
    ".scroll_from_origin(scroll_origin, 0, 800)\\\n",
    ".perform()"
   ]
  },
  {
   "cell_type": "code",
   "execution_count": 99,
   "metadata": {},
   "outputs": [],
   "source": [
    "time.sleep(4)"
   ]
  },
  {
   "cell_type": "code",
   "execution_count": 100,
   "metadata": {},
   "outputs": [],
   "source": [
    "\n",
    "pag.moveTo(480,250)\n",
    "pag.click()\n",
    "time.sleep(1)\n",
    "pag.moveTo(440,280)\n",
    "pag.click()\n",
    "time.sleep(1)\n",
    "pag.moveTo(390,350)\n",
    "pag.click()\n",
    "time.sleep(1)\n",
    "pag.moveTo(430,340)\n",
    "pag.click()\n",
    "time.sleep(1)"
   ]
  },
  {
   "cell_type": "code",
   "execution_count": 101,
   "metadata": {},
   "outputs": [],
   "source": [
    "find_eng = driver.find_element(By.ID, 'ctl00_PlaceHolderMain_btnNewSearch')\n",
    "driver.execute_script(\"document.getElementById('ctl00_PlaceHolderMain_btnNewSearch').click()\")"
   ]
  },
  {
   "cell_type": "markdown",
   "metadata": {},
   "source": [
    "## Search"
   ]
  },
  {
   "cell_type": "code",
   "execution_count": 102,
   "metadata": {},
   "outputs": [],
   "source": [
    "scroll_origin = ScrollOrigin.from_viewport(10, 10)\n",
    "ActionChains(driver)\\\n",
    ".scroll_from_origin(scroll_origin, 0, -10000)\\\n",
    ".perform()"
   ]
  },
  {
   "cell_type": "markdown",
   "metadata": {},
   "source": [
    "## Permits scraping"
   ]
  },
  {
   "cell_type": "code",
   "execution_count": 515,
   "metadata": {},
   "outputs": [],
   "source": [
    "all_permits = {'0':[]}"
   ]
  },
  {
   "cell_type": "code",
   "execution_count": 525,
   "metadata": {},
   "outputs": [],
   "source": [
    "## Status\n",
    "\n",
    "def p_status (value):\n",
    "    global status\n",
    "    status = None\n",
    "\n",
    "    try:\n",
    "        status = driver.find_element(By.ID, f\"ctl00_PlaceHolderMain_dgvPermitList_gdvPermitList_ctl{value}_lblStatus\").text\n",
    "        print(status)\n",
    "        \n",
    "    except:\n",
    "        pass\n",
    "\n",
    "## Project Name\n",
    "\n",
    "def p_name (value):\n",
    "    global project_name\n",
    "    project_name = None\n",
    "\n",
    "    try:\n",
    "        project_name = driver.find_element(By.ID, f\"ctl00_PlaceHolderMain_dgvPermitList_gdvPermitList_ctl{value}_lblProjectName\").text\n",
    "\n",
    "    except:\n",
    "        pass\n",
    "\n",
    "## Permit Number\n",
    "def p_num (value):\n",
    "    global permit_num\n",
    "    permit_num = None\n",
    "\n",
    "    if value is not None:\n",
    "        try:\n",
    "            permit_num = driver.find_element(By.ID, f\"ctl00_PlaceHolderMain_dgvPermitList_gdvPermitList_ctl{value}_lblPermitNumber1\").text\n",
    "            print(permit_num)\n",
    "            return True\n",
    "            \n",
    "        except:\n",
    "           permit_num = driver.find_element(By.ID, f\"ctl00_PlaceHolderMain_dgvPermitList_gdvPermitList_ctl{value}_lblPermitNumber\").text\n",
    "           return False\n",
    "        \n",
    "\n",
    "def go_to_link(value):\n",
    "\n",
    "    if p_num(value) == True:\n",
    "        try:\n",
    "            driver.execute_script(f\"document.getElementById('ctl00_PlaceHolderMain_dgvPermitList_gdvPermitList_ctl{value}_hlPermitNumber1').click()\")\n",
    "            return True\n",
    "        except:\n",
    "            driver.execute_script(f\"document.getElementById('ctl00_PlaceHolderMain_dgvPermitList_gdvPermitList_ctl{value}_hlPermitNumber').click()\")\n",
    "            return True\n",
    "    else:\n",
    "        return False\n",
    "\n",
    "\n",
    "\n",
    "## Project attributes\n",
    "     \n",
    "def attributes(value):\n",
    "\n",
    "\n",
    "    global project_st\n",
    "    global project_city\n",
    "    global licenced_professional\n",
    "    global professional_city\n",
    "    global professional_zip\n",
    "    global professional_street\n",
    "    global applicant_name\n",
    "    global applicant_company\n",
    "    global applicant_main_phone\n",
    "    global applicant_email   \n",
    "    \n",
    "    \n",
    "    project_st = None\n",
    "    project_city = None\n",
    "    licenced_professional = None\n",
    "    professional_city = None\n",
    "    professional_zip = None\n",
    "    professional_street =None\n",
    "    applicant_name = None\n",
    "    applicant_company = None\n",
    "    applicant_main_phone = None\n",
    "    applicant_email = None\n",
    "\n",
    "\n",
    "    if go_to_link(value) == True:\n",
    "        time.sleep(7)\n",
    "        try:\n",
    "            project_st = driver.find_element(By.CLASS_NAME, f\"contactinfo_addressline1\").text\n",
    "\n",
    "        except:\n",
    "            project_st = driver.find_element(By.CLASS_NAME, f\"contactinfo_addressline2\").text\n",
    "\n",
    "\n",
    "        \n",
    "        \n",
    "        ## Project City\n",
    "        try:\n",
    "            project_city = driver.find_element(By.CLASS_NAME, f\"contactinfo_region\").text\n",
    "\n",
    "        except:\n",
    "            pass\n",
    "\n",
    "        \n",
    "\n",
    "        ## Applicant Name\n",
    "        try:\n",
    "            apl_fname = driver.find_element(By.CLASS_NAME, f\"contactinfo_firstname\").text\n",
    "            apl_lname = driver.find_element(By.CLASS_NAME, 'contactinfo_lastname').text\n",
    "\n",
    "            applicant_name = apl_fname + ' ' + apl_lname\n",
    "            \n",
    "\n",
    "        except:\n",
    "            pass\n",
    "            \n",
    "        \n",
    "        ## Applicant Company Name\n",
    "        try:\n",
    "            applicant_company = driver.find_element(By.CLASS_NAME, f\"contactinfo_businessname\").text\n",
    "\n",
    "        except:\n",
    "            pass\n",
    "\n",
    "\n",
    "        ## Applicant Phone\n",
    "        try:\n",
    "            applicant_main_phone = driver.find_element(By.CLASS_NAME, f\"contactinfo_phone1\").text\n",
    "\n",
    "        except:\n",
    "            pass\n",
    "\n",
    "\n",
    "        ## Applicant Email\n",
    "        try:\n",
    "            applicant_email = driver.find_element(By.CLASS_NAME, f\"contactinfo_email\").text\n",
    "\n",
    "        except:\n",
    "            pass\n",
    "\n",
    "\n",
    "        ## Licensed Professional\n",
    "        try:\n",
    "            table = driver.find_elements(By.CLASS_NAME, f\"table_child\")[2].text\n",
    "        except:\n",
    "            pass\n",
    "        \n",
    "        \n",
    "        splitted = table.split(sep=\"\\n\")\n",
    "\n",
    "        if len(splitted) > 3:\n",
    "            try:\n",
    "                if ':' in splitted[3].split(sep=',')[0].strip():\n",
    "                    professional_city=(splitted[2].split(sep=',')[0])\n",
    "                    professional_street=(splitted[1])\n",
    "                    licenced_professional=(splitted[0])\n",
    "\n",
    "            except:\n",
    "                professional_city=(splitted[3].split(sep=',')[0])\n",
    "                professional_street=(splitted[2])\n",
    "                licenced_professional=(splitted[1])\n",
    "\n",
    "                \n",
    "            try:\n",
    "                splitted[3].split(sep=',')[2]\n",
    "                professional_zip=(splitted[3].split(sep=',')[2])\n",
    "            except:\n",
    "                professional_zip=(splitted[2].split(sep=',')[2])\n",
    "\n",
    "            else:\n",
    "                pass\n",
    "            \n",
    "            driver.back()\n",
    "\n",
    "        else:\n",
    "            \n",
    "            driver.back()\n",
    "\n",
    "\n",
    "def permits():\n",
    "    # for i in range(len(values)):\n",
    "        global permits_data\n",
    "\n",
    "        permits_data = {}\n",
    "        permits_data['permit_num']= permit_num\n",
    "        permits_data['project_name']= project_name\n",
    "        permits_data['status']= status\n",
    "        permits_data['project_st']= project_st\n",
    "        permits_data['project_city']= project_city\n",
    "        permits_data['licenced_professional']= licenced_professional\n",
    "        permits_data['professional_city']= professional_city\n",
    "        permits_data['professional_zip']= professional_zip\n",
    "        permits_data['professional_street']= professional_street\n",
    "        permits_data['applicant_name']= applicant_name\n",
    "        permits_data['applicant_company']= applicant_company\n",
    "        permits_data['applicant_main_phone']= applicant_main_phone\n",
    "        permits_data['applicant_email']= applicant_email\n",
    "        add_permits(permits_data)\n",
    "\n",
    "\n",
    "def add_permits(permits_data):\n",
    "    all_permits.update({f'{i+1}': (permits_data)})\n",
    "    "
   ]
  },
  {
   "cell_type": "code",
   "execution_count": 526,
   "metadata": {},
   "outputs": [
    {
     "name": "stdout",
     "output_type": "stream",
     "text": [
      "Working on 02...\n",
      "Working on 03...\n",
      "Pending Project Review\n",
      "BLD24-00393\n"
     ]
    }
   ],
   "source": [
    "# values = ['08', '09']\n",
    "values = ['02','03', '04','05', '06','07', '08','09', '10','11', '12','13']\n",
    "for i, value in enumerate(values):\n",
    "    print('Working on {}...'.format(value))\n",
    "    p_name(value)\n",
    "    attributes(value)\n",
    "    permits()\n",
    "    add_permits(permits_data)\n",
    "\n",
    "    \n"
   ]
  },
  {
   "cell_type": "code",
   "execution_count": 528,
   "metadata": {},
   "outputs": [
    {
     "name": "stdout",
     "output_type": "stream",
     "text": [
      "{'0': [], '1': {'permit_num': '24TMP06058', 'project_name': '', 'status': None, 'project_st': None, 'project_city': None, 'licenced_professional': None, 'professional_city': None, 'professional_zip': None, 'professional_street': None, 'applicant_name': None, 'applicant_company': None, 'applicant_main_phone': None, 'applicant_email': None}, '2': {'permit_num': 'BLD24-00393', 'project_name': 'DP.B1.L4 - Pippin', 'status': 'Pending Project Review', 'project_st': '10870 West Fairview Avenue', 'project_city': 'Boise,', 'licenced_professional': None, 'professional_city': None, 'professional_zip': ' 83713', 'professional_street': None, 'applicant_name': 'Matthew Swenson', 'applicant_company': 'IHS BUILDERS LLC', 'applicant_main_phone': 'Main Phone:\\n208-695-6570', 'applicant_email': 'mattjswenson@gmail.com'}}\n"
     ]
    }
   ],
   "source": [
    "print(all_permits)"
   ]
  }
 ],
 "metadata": {
  "kernelspec": {
   "display_name": "venv",
   "language": "python",
   "name": "python3"
  },
  "language_info": {
   "codemirror_mode": {
    "name": "ipython",
    "version": 3
   },
   "file_extension": ".py",
   "mimetype": "text/x-python",
   "name": "python",
   "nbconvert_exporter": "python",
   "pygments_lexer": "ipython3",
   "version": "3.11.5"
  }
 },
 "nbformat": 4,
 "nbformat_minor": 2
}
