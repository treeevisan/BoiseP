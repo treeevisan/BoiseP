{
 "cells": [
  {
   "cell_type": "code",
   "execution_count": 93,
   "metadata": {},
   "outputs": [],
   "source": [
    "import os\n",
    "from selenium import webdriver\n",
    "from selenium.webdriver.common.by import By\n",
    "from selenium.webdriver.support.ui import WebDriverWait\n",
    "from selenium.webdriver.support import expected_conditions as EC\n",
    "from selenium.webdriver.common.keys import Keys\n",
    "from selenium.webdriver.common.action_chains import ActionChains\n",
    "from selenium.webdriver.common.actions.action_builder import ActionBuilder\n",
    "import pyautogui as pag\n",
    "import time\n",
    "from selenium.webdriver.common.actions.wheel_input import ScrollOrigin\n"
   ]
  },
  {
   "cell_type": "code",
   "execution_count": 94,
   "metadata": {},
   "outputs": [],
   "source": [
    "os.environ['PATH'] += r\"D:/Anaconda/anaconda3\"\n",
    "driver = webdriver.Firefox()\n",
    "driver.maximize_window()"
   ]
  },
  {
   "cell_type": "code",
   "execution_count": 95,
   "metadata": {},
   "outputs": [],
   "source": [
    "driver.get('https://permits.cityofboise.org/CitizenAccess/Welcome.aspx')\n",
    "\n"
   ]
  },
  {
   "cell_type": "code",
   "execution_count": 96,
   "metadata": {},
   "outputs": [],
   "source": [
    "link = driver.find_element(By.XPATH, '/html/body/form/div[3]/header/div/nav/div/div/ul/li[2]/span/div')\n",
    "link.click()\n",
    "\n",
    "WebDriverWait(driver,30).until(\n",
    "    EC.text_to_be_present_in_element(\n",
    "        (By.XPATH,'/html/body/form/div[3]/header/div/nav/div/div/ul/li[2]/div/a[5]'),\n",
    "        'Licenses'\n",
    "    )\n",
    ")\n",
    "\n",
    "lk2 = driver.find_element(By.XPATH, '//*[@id=\"cobnav\"]/div/ul/li[2]/div/a[2]') \n",
    "\n",
    "lk2.click()\n",
    "\n"
   ]
  },
  {
   "cell_type": "code",
   "execution_count": 97,
   "metadata": {},
   "outputs": [],
   "source": [
    "rec_type = driver.find_element(By.ID, 'ctl00_PlaceHolderMain_generalSearchForm_ddlGSPermitType')\n",
    "\n",
    "\n",
    "\n",
    "rec_type.click()\n",
    "\n",
    "sel_rec = driver.find_element(By.XPATH, '/html/body/form/div[4]/div/div[7]/div[1]/table/tbody/tr/td/div[2]/div[3]/div/div/div[2]/div[1]/div/div[1]/div[1]/div[1]/div[1]/div[2]/table/tbody/tr/td/div/div[2]/table/tbody/tr/td[1]/select/option[2]')\n",
    "\n",
    "sel_rec.click()\n",
    "\n",
    "# #Calendar\n",
    "# button = driver.find_element(By.ID,'ctl00_PlaceHolderMain_generalSearchForm_txtGSStartDate_calendar_button')\n",
    "\n",
    "# driver.execute_script(\"document.getElementById('ctl00_PlaceHolderMain_generalSearchForm_txtGSStartDate_calendar_button').click()\")\n",
    "# driver.execute_script(\"document.getElementById('ctl00_PlaceHolderMain_generalSearchForm_txtGSStartDate_calendar_bhv_lnkTitleID').click()\")"
   ]
  },
  {
   "cell_type": "markdown",
   "metadata": {},
   "source": [
    "## Calendar"
   ]
  },
  {
   "cell_type": "code",
   "execution_count": 98,
   "metadata": {},
   "outputs": [],
   "source": [
    "scroll_origin = ScrollOrigin.from_viewport(10, 10)\n",
    "ActionChains(driver)\\\n",
    ".scroll_from_origin(scroll_origin, 0, 800)\\\n",
    ".perform()"
   ]
  },
  {
   "cell_type": "code",
   "execution_count": 99,
   "metadata": {},
   "outputs": [],
   "source": [
    "time.sleep(4)"
   ]
  },
  {
   "cell_type": "code",
   "execution_count": 100,
   "metadata": {},
   "outputs": [],
   "source": [
    "\n",
    "pag.moveTo(480,250)\n",
    "pag.click()\n",
    "time.sleep(1)\n",
    "pag.moveTo(440,280)\n",
    "pag.click()\n",
    "time.sleep(1)\n",
    "pag.moveTo(390,350)\n",
    "pag.click()\n",
    "time.sleep(1)\n",
    "pag.moveTo(430,340)\n",
    "pag.click()\n",
    "time.sleep(1)"
   ]
  },
  {
   "cell_type": "code",
   "execution_count": 101,
   "metadata": {},
   "outputs": [],
   "source": [
    "find_eng = driver.find_element(By.ID, 'ctl00_PlaceHolderMain_btnNewSearch')\n",
    "driver.execute_script(\"document.getElementById('ctl00_PlaceHolderMain_btnNewSearch').click()\")"
   ]
  },
  {
   "cell_type": "markdown",
   "metadata": {},
   "source": [
    "## Search"
   ]
  },
  {
   "cell_type": "code",
   "execution_count": 102,
   "metadata": {},
   "outputs": [],
   "source": [
    "scroll_origin = ScrollOrigin.from_viewport(10, 10)\n",
    "ActionChains(driver)\\\n",
    ".scroll_from_origin(scroll_origin, 0, -10000)\\\n",
    ".perform()"
   ]
  },
  {
   "cell_type": "markdown",
   "metadata": {},
   "source": [
    "## Permits scraping"
   ]
  },
  {
   "cell_type": "code",
   "execution_count": 302,
   "metadata": {},
   "outputs": [],
   "source": [
    "permit_num = []\n",
    "project_name = []\n",
    "status = []\n",
    "project_st = []\n",
    "project_city = []\n",
    "licenced_professional = []\n",
    "professional_city = []\n",
    "professional_zip = []\n",
    "professional_street =[]\n",
    "applicant_name = []\n",
    "applicant_company = []\n",
    "applicant_main_phone = []\n",
    "applicant_email = []"
   ]
  },
  {
   "cell_type": "code",
   "execution_count": 304,
   "metadata": {},
   "outputs": [],
   "source": [
    "## Status\n",
    "\n",
    "def p_status (value):\n",
    "    \n",
    "    try:\n",
    "        char = driver.find_element(By.ID, f\"ctl00_PlaceHolderMain_dgvPermitList_gdvPermitList_ctl{value}_lblStatus\").text\n",
    "        status.append(char)\n",
    "    except:\n",
    "        char = 0\n",
    "        status.append(char)\n",
    "    \n",
    "    \n",
    "\n",
    "## Project Name\n",
    "\n",
    "def p_name (value):\n",
    "    try:\n",
    "        pname = driver.find_element(By.ID, f\"ctl00_PlaceHolderMain_dgvPermitList_gdvPermitList_ctl{value}_lblProjectName\").text\n",
    "        project_name.append(pname)\n",
    "    except:\n",
    "        pname = 0\n",
    "        project_name.append(pname)\n",
    "\n",
    "\n",
    "\n",
    "## Permit Number\n",
    "def p_num (value):\n",
    "\n",
    "    if value is not None:\n",
    "        try:\n",
    "            number = driver.find_element(By.ID, f\"ctl00_PlaceHolderMain_dgvPermitList_gdvPermitList_ctl{value}_lblPermitNumber1\").text\n",
    "            permit_num.append(number)\n",
    "            return True\n",
    "            \n",
    "        except:\n",
    "            number = driver.find_element(By.ID, f\"ctl00_PlaceHolderMain_dgvPermitList_gdvPermitList_ctl{value}_lblPermitNumber\").text\n",
    "            permit_num.append(number)\n",
    "            return False\n",
    "        \n",
    "\n",
    "def go_to_link(value):\n",
    "\n",
    "    if p_num(value) == True:\n",
    "        try:\n",
    "            driver.execute_script(f\"document.getElementById('ctl00_PlaceHolderMain_dgvPermitList_gdvPermitList_ctl{value}_hlPermitNumber1').click()\")\n",
    "            return True\n",
    "        except:\n",
    "            driver.execute_script(f\"document.getElementById('ctl00_PlaceHolderMain_dgvPermitList_gdvPermitList_ctl{value}_hlPermitNumber').click()\")\n",
    "            return True\n",
    "    else:\n",
    "        False\n",
    "\n",
    "        ## Project Street \n",
    "def attributes(value):\n",
    "\n",
    "    if go_to_link(value) == True:\n",
    "        time.sleep(7)\n",
    "        try:\n",
    "            apl_street = driver.find_element(By.CLASS_NAME, f\"contactinfo_addressline1\").text\n",
    "            project_st.append(apl_street)\n",
    "        except:\n",
    "            apl_street = driver.find_element(By.CLASS_NAME, f\"contactinfo_addressline2\").text\n",
    "            project_st.append(apl_street)\n",
    "\n",
    "        \n",
    "        \n",
    "        ## Project City\n",
    "        try:\n",
    "            apl_city = driver.find_element(By.CLASS_NAME, f\"contactinfo_region\").text\n",
    "            project_city.append(apl_city)\n",
    "        except:\n",
    "            pass\n",
    "\n",
    "        \n",
    "\n",
    "        ## Applicant Name\n",
    "        try:\n",
    "            apl_fname = driver.find_element(By.CLASS_NAME, f\"contactinfo_firstname\").text\n",
    "            apl_lname = driver.find_element(By.CLASS_NAME, 'contactinfo_lastname').text\n",
    "\n",
    "            apl_name = apl_fname + ' ' + apl_lname\n",
    "            \n",
    "            applicant_name.append(apl_name)  \n",
    "\n",
    "        except:\n",
    "            pass\n",
    "            \n",
    "        \n",
    "        ## Applicant Company Name\n",
    "        try:\n",
    "            apl_comp_name = driver.find_element(By.CLASS_NAME, f\"contactinfo_businessname\").text\n",
    "            applicant_company.append(apl_comp_name)\n",
    "        except:\n",
    "            pass\n",
    "\n",
    "\n",
    "        ## Applicant Phone\n",
    "        try:\n",
    "            apl_phone = driver.find_element(By.CLASS_NAME, f\"contactinfo_phone1\").text\n",
    "            applicant_main_phone.append(apl_phone)\n",
    "        except:\n",
    "            pass\n",
    "\n",
    "\n",
    "        ## Applicant Email\n",
    "        try:\n",
    "            apl_email = driver.find_element(By.CLASS_NAME, f\"contactinfo_email\").text\n",
    "            applicant_email.append(apl_email)\n",
    "        except:\n",
    "            pass\n",
    "\n",
    "\n",
    "        ## Licensed Professional\n",
    "        try:\n",
    "            table = driver.find_elements(By.CLASS_NAME, f\"table_child\")[2].text\n",
    "        except:\n",
    "            pass\n",
    "        \n",
    "        splitted = table.split(sep=\"\\n\")\n",
    "\n",
    "\n",
    "        if ':' in splitted[3].split(sep=',')[0].strip():\n",
    "            professional_city.append(splitted[2].split(sep=',')[0])\n",
    "            professional_street.append(splitted[1])\n",
    "            licenced_professional.append(splitted[0])\n",
    "\n",
    "        else:\n",
    "            professional_city.append(splitted[3].split(sep=',')[0])\n",
    "            professional_street.append(splitted[2])\n",
    "            licenced_professional.append(splitted[1])\n",
    "            \n",
    "\n",
    "            \n",
    "        try:\n",
    "            splitted[3].split(sep=',')[2]\n",
    "            professional_zip.append(splitted[3].split(sep=',')[2])\n",
    "        except:\n",
    "            professional_zip.append(splitted[2].split(sep=',')[2])\n",
    "\n",
    "        else:\n",
    "            pass\n",
    "        \n",
    "        driver.back()\n",
    "\n",
    "    else:\n",
    "        ('No link')"
   ]
  },
  {
   "cell_type": "code",
   "execution_count": 199,
   "metadata": {},
   "outputs": [
    {
     "name": "stdout",
     "output_type": "stream",
     "text": [
      "24TMP06058\n"
     ]
    }
   ],
   "source": []
  },
  {
   "cell_type": "code",
   "execution_count": 307,
   "metadata": {},
   "outputs": [
    {
     "name": "stdout",
     "output_type": "stream",
     "text": [
      "------ Working on 02 ------\n",
      "------ Working on 03 ------\n",
      "------ Working on 04 ------\n",
      "------ Working on 05 ------\n",
      "------ Working on 06 ------\n",
      "------ Working on 07 ------\n",
      "------ Working on 08 ------\n"
     ]
    },
    {
     "ename": "IndexError",
     "evalue": "list index out of range",
     "output_type": "error",
     "traceback": [
      "\u001b[1;31m---------------------------------------------------------------------------\u001b[0m",
      "\u001b[1;31mIndexError\u001b[0m                                Traceback (most recent call last)",
      "Cell \u001b[1;32mIn[307], line 7\u001b[0m\n\u001b[0;32m      5\u001b[0m \u001b[38;5;28;01mfor\u001b[39;00m value \u001b[38;5;129;01min\u001b[39;00m values:\n\u001b[0;32m      6\u001b[0m     \u001b[38;5;28mprint\u001b[39m(\u001b[38;5;124m'\u001b[39m\u001b[38;5;124m------ Working on \u001b[39m\u001b[38;5;132;01m{}\u001b[39;00m\u001b[38;5;124m ------\u001b[39m\u001b[38;5;124m'\u001b[39m\u001b[38;5;241m.\u001b[39mformat(value))\n\u001b[1;32m----> 7\u001b[0m     \u001b[43mattributes\u001b[49m\u001b[43m(\u001b[49m\u001b[43mvalue\u001b[49m\u001b[43m)\u001b[49m\n",
      "Cell \u001b[1;32mIn[304], line 122\u001b[0m, in \u001b[0;36mattributes\u001b[1;34m(value)\u001b[0m\n\u001b[0;32m    119\u001b[0m splitted \u001b[38;5;241m=\u001b[39m li_prof\u001b[38;5;241m.\u001b[39msplit(sep\u001b[38;5;241m=\u001b[39m\u001b[38;5;124m\"\u001b[39m\u001b[38;5;130;01m\\n\u001b[39;00m\u001b[38;5;124m\"\u001b[39m)\n\u001b[0;32m    121\u001b[0m licenced_professional\u001b[38;5;241m.\u001b[39mappend(splitted[\u001b[38;5;241m1\u001b[39m])\n\u001b[1;32m--> 122\u001b[0m professional_city\u001b[38;5;241m.\u001b[39mappend(\u001b[43msplitted\u001b[49m\u001b[43m[\u001b[49m\u001b[38;5;241;43m3\u001b[39;49m\u001b[43m]\u001b[49m\u001b[38;5;241m.\u001b[39msplit(sep\u001b[38;5;241m=\u001b[39m\u001b[38;5;124m'\u001b[39m\u001b[38;5;124m,\u001b[39m\u001b[38;5;124m'\u001b[39m)[\u001b[38;5;241m0\u001b[39m])\n\u001b[0;32m    123\u001b[0m professional_street\u001b[38;5;241m.\u001b[39mappend(splitted[\u001b[38;5;241m2\u001b[39m])\n\u001b[0;32m    124\u001b[0m \u001b[38;5;28;01mtry\u001b[39;00m:\n",
      "\u001b[1;31mIndexError\u001b[0m: list index out of range"
     ]
    }
   ],
   "source": [
    "values = ['02','03','04','05','06','07','08','09','10','11']\n",
    "# p_status(value)\n",
    "# p_name(value)\n",
    "# go_to_link(value)\n",
    "for value in values:\n",
    "    print('Working on {}...'.format(value))\n",
    "    attributes(value)\n",
    "    \n"
   ]
  },
  {
   "cell_type": "code",
   "execution_count": 308,
   "metadata": {},
   "outputs": [
    {
     "name": "stdout",
     "output_type": "stream",
     "text": [
      "['24TMP06058', 'BLD24-00393', 'BLD24-00392', 'BLD24-00391', 'BLD24-00390', 'BLD24-00383', 'BLD24-00382']\n",
      "[' 83713', ' 83713', ' 83713', ' 83713', ' 83702']\n",
      "['BOISE', 'BOISE', 'BOISE', 'BOISE', 'Main Phone:']\n",
      "['3383 N Five Mile Rd. #143', '3383 N Five Mile Rd. #143', '3383 N Five Mile Rd. #143', '3383 N Five Mile Rd. #143', 'BOISE, ID, 83702']\n"
     ]
    }
   ],
   "source": [
    "print(permit_num)\n",
    "print(professional_zip)\n",
    "print(professional_city)\n",
    "print(professional_street)"
   ]
  }
 ],
 "metadata": {
  "kernelspec": {
   "display_name": "venv",
   "language": "python",
   "name": "python3"
  },
  "language_info": {
   "codemirror_mode": {
    "name": "ipython",
    "version": 3
   },
   "file_extension": ".py",
   "mimetype": "text/x-python",
   "name": "python",
   "nbconvert_exporter": "python",
   "pygments_lexer": "ipython3",
   "version": "3.11.5"
  }
 },
 "nbformat": 4,
 "nbformat_minor": 2
}
