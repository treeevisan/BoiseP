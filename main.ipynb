{
 "cells": [
  {
   "cell_type": "code",
   "execution_count": 344,
   "metadata": {},
   "outputs": [],
   "source": [
    "import os\n",
    "from selenium import webdriver\n",
    "from selenium.webdriver.common.by import By\n",
    "from selenium.webdriver.support.ui import WebDriverWait\n",
    "from selenium.webdriver.support import expected_conditions as EC\n",
    "from selenium.webdriver.common.keys import Keys\n",
    "from selenium.webdriver.common.action_chains import ActionChains\n",
    "from selenium.webdriver.common.actions.action_builder import ActionBuilder\n",
    "import pyautogui as pag\n",
    "import time\n",
    "from selenium.webdriver.common.actions.wheel_input import ScrollOrigin\n",
    "import json\n"
   ]
  },
  {
   "cell_type": "code",
   "execution_count": 94,
   "metadata": {},
   "outputs": [],
   "source": [
    "os.environ['PATH'] += r\"D:/Anaconda/anaconda3\"\n",
    "driver = webdriver.Firefox()\n",
    "driver.maximize_window()"
   ]
  },
  {
   "cell_type": "code",
   "execution_count": 95,
   "metadata": {},
   "outputs": [],
   "source": [
    "driver.get('https://permits.cityofboise.org/CitizenAccess/Welcome.aspx')\n",
    "\n"
   ]
  },
  {
   "cell_type": "code",
   "execution_count": 96,
   "metadata": {},
   "outputs": [],
   "source": [
    "link = driver.find_element(By.XPATH, '/html/body/form/div[3]/header/div/nav/div/div/ul/li[2]/span/div')\n",
    "link.click()\n",
    "\n",
    "WebDriverWait(driver,30).until(\n",
    "    EC.text_to_be_present_in_element(\n",
    "        (By.XPATH,'/html/body/form/div[3]/header/div/nav/div/div/ul/li[2]/div/a[5]'),\n",
    "        'Licenses'\n",
    "    )\n",
    ")\n",
    "\n",
    "lk2 = driver.find_element(By.XPATH, '//*[@id=\"cobnav\"]/div/ul/li[2]/div/a[2]') \n",
    "\n",
    "lk2.click()\n",
    "\n"
   ]
  },
  {
   "cell_type": "code",
   "execution_count": 97,
   "metadata": {},
   "outputs": [],
   "source": [
    "rec_type = driver.find_element(By.ID, 'ctl00_PlaceHolderMain_generalSearchForm_ddlGSPermitType')\n",
    "\n",
    "\n",
    "\n",
    "rec_type.click()\n",
    "\n",
    "sel_rec = driver.find_element(By.XPATH, '/html/body/form/div[4]/div/div[7]/div[1]/table/tbody/tr/td/div[2]/div[3]/div/div/div[2]/div[1]/div/div[1]/div[1]/div[1]/div[1]/div[2]/table/tbody/tr/td/div/div[2]/table/tbody/tr/td[1]/select/option[2]')\n",
    "\n",
    "sel_rec.click()\n",
    "\n",
    "# #Calendar\n",
    "# button = driver.find_element(By.ID,'ctl00_PlaceHolderMain_generalSearchForm_txtGSStartDate_calendar_button')\n",
    "\n",
    "# driver.execute_script(\"document.getElementById('ctl00_PlaceHolderMain_generalSearchForm_txtGSStartDate_calendar_button').click()\")\n",
    "# driver.execute_script(\"document.getElementById('ctl00_PlaceHolderMain_generalSearchForm_txtGSStartDate_calendar_bhv_lnkTitleID').click()\")"
   ]
  },
  {
   "cell_type": "markdown",
   "metadata": {},
   "source": [
    "## Calendar"
   ]
  },
  {
   "cell_type": "code",
   "execution_count": 98,
   "metadata": {},
   "outputs": [],
   "source": [
    "scroll_origin = ScrollOrigin.from_viewport(10, 10)\n",
    "ActionChains(driver)\\\n",
    ".scroll_from_origin(scroll_origin, 0, 800)\\\n",
    ".perform()"
   ]
  },
  {
   "cell_type": "code",
   "execution_count": 99,
   "metadata": {},
   "outputs": [],
   "source": [
    "time.sleep(4)"
   ]
  },
  {
   "cell_type": "code",
   "execution_count": 100,
   "metadata": {},
   "outputs": [],
   "source": [
    "\n",
    "pag.moveTo(480,250)\n",
    "pag.click()\n",
    "time.sleep(1)\n",
    "pag.moveTo(440,280)\n",
    "pag.click()\n",
    "time.sleep(1)\n",
    "pag.moveTo(390,350)\n",
    "pag.click()\n",
    "time.sleep(1)\n",
    "pag.moveTo(430,340)\n",
    "pag.click()\n",
    "time.sleep(1)"
   ]
  },
  {
   "cell_type": "code",
   "execution_count": 101,
   "metadata": {},
   "outputs": [],
   "source": [
    "find_eng = driver.find_element(By.ID, 'ctl00_PlaceHolderMain_btnNewSearch')\n",
    "driver.execute_script(\"document.getElementById('ctl00_PlaceHolderMain_btnNewSearch').click()\")"
   ]
  },
  {
   "cell_type": "markdown",
   "metadata": {},
   "source": [
    "## Search"
   ]
  },
  {
   "cell_type": "code",
   "execution_count": 102,
   "metadata": {},
   "outputs": [],
   "source": [
    "scroll_origin = ScrollOrigin.from_viewport(10, 10)\n",
    "ActionChains(driver)\\\n",
    ".scroll_from_origin(scroll_origin, 0, -10000)\\\n",
    ".perform()"
   ]
  },
  {
   "cell_type": "markdown",
   "metadata": {},
   "source": [
    "## Permits scraping"
   ]
  },
  {
   "cell_type": "code",
   "execution_count": 341,
   "metadata": {},
   "outputs": [],
   "source": [
    "permit_num = 0\n",
    "project_name = 0\n",
    "status = 0\n",
    "project_st = 0\n",
    "project_city = 0\n",
    "licenced_professional = 0\n",
    "professional_city = 0\n",
    "professional_zip = 0\n",
    "professional_street =0\n",
    "applicant_name = 0\n",
    "applicant_company = 0\n",
    "applicant_main_phone = 0\n",
    "applicant_email = 0"
   ]
  },
  {
   "cell_type": "code",
   "execution_count": 351,
   "metadata": {},
   "outputs": [],
   "source": [
    "all_permits = []\n",
    "\n",
    "permit_data = {\n",
    "   'permit_num': permit_num,\n",
    "   'project_name': project_name,\n",
    "   'status': status,\n",
    "   'project_st': project_st,\n",
    "   'project_city': project_city,\n",
    "   'licenced_professional': licenced_professional,\n",
    "   'professional_city': professional_city,\n",
    "   'professional_zip': professional_zip,\n",
    "   'professional_street': professional_street,\n",
    "   'applicant_name': applicant_name,\n",
    "   'applicant_company': applicant_company,\n",
    "   'applicant_main_phone': applicant_main_phone,\n",
    "   'applicant_email': applicant_email\n",
    "   }"
   ]
  },
  {
   "cell_type": "code",
   "execution_count": 352,
   "metadata": {},
   "outputs": [],
   "source": [
    "## Status\n",
    "\n",
    "def p_status (value):\n",
    "    global status\n",
    "\n",
    "    try:\n",
    "        status = driver.find_element(By.ID, f\"ctl00_PlaceHolderMain_dgvPermitList_gdvPermitList_ctl{value}_lblStatus\").text\n",
    "        \n",
    "\n",
    "    except:\n",
    "        status = 'None'\n",
    "\n",
    "## Project Name\n",
    "\n",
    "def p_name (value):\n",
    "    global project_name\n",
    "\n",
    "    try:\n",
    "        project_name = driver.find_element(By.ID, f\"ctl00_PlaceHolderMain_dgvPermitList_gdvPermitList_ctl{value}_lblProjectName\").text\n",
    "\n",
    "    except:\n",
    "        project_name = 'None'\n",
    "\n",
    "## Permit Number\n",
    "def p_num (value):\n",
    "    global permit_num\n",
    "\n",
    "    if value is not None:\n",
    "        try:\n",
    "            permit_num = driver.find_element(By.ID, f\"ctl00_PlaceHolderMain_dgvPermitList_gdvPermitList_ctl{value}_lblPermitNumber1\").text\n",
    "            return True\n",
    "            \n",
    "        except:\n",
    "           permit_num = driver.find_element(By.ID, f\"ctl00_PlaceHolderMain_dgvPermitList_gdvPermitList_ctl{value}_lblPermitNumber\").text\n",
    "           return False\n",
    "        \n",
    "\n",
    "def go_to_link(value):\n",
    "\n",
    "    if p_num(value) == True:\n",
    "        try:\n",
    "            driver.execute_script(f\"document.getElementById('ctl00_PlaceHolderMain_dgvPermitList_gdvPermitList_ctl{value}_hlPermitNumber1').click()\")\n",
    "            return True\n",
    "        except:\n",
    "            driver.execute_script(f\"document.getElementById('ctl00_PlaceHolderMain_dgvPermitList_gdvPermitList_ctl{value}_hlPermitNumber').click()\")\n",
    "            return True\n",
    "    else:\n",
    "        return False\n",
    "\n",
    "\n",
    "\n",
    "## Project attributes\n",
    "     \n",
    "def attributes(value):\n",
    "\n",
    "\n",
    "    global project_st\n",
    "    global project_city\n",
    "    global licenced_professional\n",
    "    global professional_city\n",
    "    global professional_zip\n",
    "    global professional_street\n",
    "    global applicant_name\n",
    "    global applicant_company\n",
    "    global applicant_main_phone\n",
    "    global applicant_email   \n",
    "    \n",
    "    \n",
    "    project_st = 'None'\n",
    "    project_city = 'None'\n",
    "    licenced_professional = 'None'\n",
    "    professional_city = 'None'\n",
    "    professional_zip = 'None'\n",
    "    professional_street ='None'\n",
    "    applicant_name = 'None'\n",
    "    applicant_company = 'None'\n",
    "    applicant_main_phone = 'None'\n",
    "    applicant_email = 'None'\n",
    "\n",
    "\n",
    "    if go_to_link(value) == True:\n",
    "        time.sleep(7)\n",
    "        try:\n",
    "            project_st = driver.find_element(By.CLASS_NAME, f\"contactinfo_addressline1\").text\n",
    "\n",
    "        except:\n",
    "            project_st = driver.find_element(By.CLASS_NAME, f\"contactinfo_addressline2\").text\n",
    "\n",
    "\n",
    "        \n",
    "        \n",
    "        ## Project City\n",
    "        try:\n",
    "            project_city = driver.find_element(By.CLASS_NAME, f\"contactinfo_region\").text\n",
    "\n",
    "        except:\n",
    "            pass\n",
    "\n",
    "        \n",
    "\n",
    "        ## Applicant Name\n",
    "        try:\n",
    "            apl_fname = driver.find_element(By.CLASS_NAME, f\"contactinfo_firstname\").text\n",
    "            apl_lname = driver.find_element(By.CLASS_NAME, 'contactinfo_lastname').text\n",
    "\n",
    "            applicant_name = apl_fname + ' ' + apl_lname\n",
    "            \n",
    "\n",
    "        except:\n",
    "            pass\n",
    "            \n",
    "        \n",
    "        ## Applicant Company Name\n",
    "        try:\n",
    "            applicant_company = driver.find_element(By.CLASS_NAME, f\"contactinfo_businessname\").text\n",
    "\n",
    "        except:\n",
    "            pass\n",
    "\n",
    "\n",
    "        ## Applicant Phone\n",
    "        try:\n",
    "            applicant_main_phone = driver.find_element(By.CLASS_NAME, f\"contactinfo_phone1\").text\n",
    "\n",
    "        except:\n",
    "            pass\n",
    "\n",
    "\n",
    "        ## Applicant Email\n",
    "        try:\n",
    "            applicant_email = driver.find_element(By.CLASS_NAME, f\"contactinfo_email\").text\n",
    "\n",
    "        except:\n",
    "            pass\n",
    "\n",
    "\n",
    "        ## Licensed Professional\n",
    "        try:\n",
    "            table = driver.find_elements(By.CLASS_NAME, f\"table_child\")[2].text\n",
    "        except:\n",
    "            pass\n",
    "        \n",
    "        \n",
    "        splitted = table.split(sep=\"\\n\")\n",
    "\n",
    "        if len(splitted) > 3:\n",
    "            try:\n",
    "                if ':' in splitted[3].split(sep=',')[0].strip():\n",
    "                    professional_city=(splitted[2].split(sep=',')[0])\n",
    "                    professional_street=(splitted[1])\n",
    "                    licenced_professional=(splitted[0])\n",
    "\n",
    "            except:\n",
    "                professional_city=(splitted[3].split(sep=',')[0])\n",
    "                professional_street=(splitted[2])\n",
    "                licenced_professional=(splitted[1])\n",
    "\n",
    "                \n",
    "            try:\n",
    "                splitted[3].split(sep=',')[2]\n",
    "                professional_zip=(splitted[3].split(sep=',')[2])\n",
    "            except:\n",
    "                professional_zip=(splitted[2].split(sep=',')[2])\n",
    "\n",
    "            else:\n",
    "                pass\n",
    "            \n",
    "            driver.back()\n",
    "\n",
    "        else:\n",
    "            all_permits.append(permit_data)\n",
    "            driver.back()"
   ]
  },
  {
   "cell_type": "code",
   "execution_count": 357,
   "metadata": {},
   "outputs": [
    {
     "name": "stdout",
     "output_type": "stream",
     "text": [
      "None\n",
      "None\n",
      "False\n",
      "Working on 02...\n"
     ]
    }
   ],
   "source": [
    "# values = ['08', '09']\n",
    "values = ['02']\n",
    "print(p_status(value))\n",
    "print(p_name(value))\n",
    "print(go_to_link(value))\n",
    "for value in values:\n",
    "    print('Working on {}...'.format(value))\n",
    "    p_name(value)\n",
    "    p_status(value)\n",
    "    attributes(value)\n",
    "    \n"
   ]
  },
  {
   "cell_type": "code",
   "execution_count": 355,
   "metadata": {},
   "outputs": [
    {
     "name": "stdout",
     "output_type": "stream",
     "text": [
      "[]\n"
     ]
    }
   ],
   "source": [
    "print(all_permits)\n"
   ]
  }
 ],
 "metadata": {
  "kernelspec": {
   "display_name": "venv",
   "language": "python",
   "name": "python3"
  },
  "language_info": {
   "codemirror_mode": {
    "name": "ipython",
    "version": 3
   },
   "file_extension": ".py",
   "mimetype": "text/x-python",
   "name": "python",
   "nbconvert_exporter": "python",
   "pygments_lexer": "ipython3",
   "version": "3.11.5"
  }
 },
 "nbformat": 4,
 "nbformat_minor": 2
}
